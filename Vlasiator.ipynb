{
 "cells": [
  {
   "cell_type": "markdown",
   "metadata": {},
   "source": [
    "# VLASIATOR \n",
    "\n",
    "[Vlasiator](http://vlasiator.fmi.fi) is a code that simulates plasma,\n",
    "[Vlasiator](http://vlasiator.fmi.fi) is a code that simulates plasma,\n",
    "in particular targeting space weather simulations. It simulates the\n",
    "dynamics of plasma using a hybrid-Vlasov model, where protons are\n",
    "described by their distribution function $f(r,v,t)$ in\n",
    "ordinary (r) and velocity (v) space, and electrons are a\n",
    "charge-neutralising fluid. This approach neglects electron kinetic\n",
    "effects but retains ion kinetics. The time-evolution of f(r,v,t) is\n",
    "given by Vlasov's equation, which is coupled self-consistently to\n",
    "Maxwell's equations giving the evolution of the electric and magnetic\n",
    "fields E and B.  Vlasiator propagates the distribution function\n",
    "forward in time with a conservative fifth-order accurate\n",
    "Semi-Lagrangian algorithm . This algorithm allows using long time\n",
    "steps even in the presence of strong magnetic fields, as the\n",
    "propagation in velocity space is not limited by the\n",
    "Courant-Friedrichs-Levy (CFL) condition. The field solver is a\n",
    "second-order accurate divergence-free upwind-constrained transport\n",
    "method.\n",
    "\n",
    "Vlasiator uses a Cartesian mesh library in ordinary space,\n",
    "parallelized with the [DCCRG](http://github.com/fmihpc/dccrg)\n",
    "library. Each cell contains the field variables (B, E), as well as a\n",
    "3D sparse velocity mesh. Empty velocity space cells are neither stored\n",
    "nor propagated, which in a typical case reduces the total number of\n",
    "phase space cells by a factor of at least 100. In large scale\n",
    "simulations there are typically on the order of a few million\n",
    "spatial-cells in ordinary space, with in total 10<sup>12</sup> cells\n",
    "in the full distribution function.\n",
    "\n",
    "The cartesian mesh is parallelized with MPI, and uses the Zoltan\n",
    "library for dynamic load balancing. It relies heavily on user defined\n",
    "MPI datatypes. The code is futhermore threaded. Typically loops over\n",
    "spatial cells have been threaded, but where the fata dependencies\n",
    "demand also other approaches have been used. Finally the Vlasov\n",
    "solver, representing up to 90% of total run-time, is vectorized using\n",
    "an explicit approach based on using the Agner Fogg's vectorclass LINK.\n",
    " "
   ]
  },
  {
   "cell_type": "markdown",
   "metadata": {},
   "source": []
  },
  {
   "cell_type": "markdown",
   "metadata": {},
   "source": [
    "an explicit approach based on using the Agner Fogg's vectorclass LINK.                                                                                                                                               "
   ]
  },
  {
   "cell_type": "code",
   "execution_count": null,
   "metadata": {
    "collapsed": true
   },
   "outputs": [],
   "source": []
  }
 ],
 "metadata": {
  "anaconda-cloud": {},
  "kernelspec": {
   "display_name": "Python [default]",
   "language": "python",
   "name": "python2"
  },
  "language_info": {
   "codemirror_mode": {
    "name": "ipython",
    "version": 2
   },
   "file_extension": ".py",
   "mimetype": "text/x-python",
   "name": "python",
   "nbconvert_exporter": "python",
   "pygments_lexer": "ipython2",
   "version": "2.7.12"
  }
 },
 "nbformat": 4,
 "nbformat_minor": 1
}
