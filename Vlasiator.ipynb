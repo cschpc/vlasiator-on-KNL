{
 "cells": [
  {
   "cell_type": "code",
   "execution_count": 2,
   "metadata": {
    "collapsed": false,
    "hideCode": false,
    "hidePrompt": false,
    "scrolled": true
   },
   "outputs": [],
   "source": [
    "import numpy as np\n",
    "import pandas\n",
    "import matplotlib.pyplot as plt\n",
    "from IPython.display import display, HTML\n",
    "\n",
    "%matplotlib inline\n",
    "\n",
    "from IPython.display import set_matplotlib_formats\n",
    "set_matplotlib_formats('pdf', 'png')\n",
    "plt.rcParams['savefig.dpi'] = 75\n",
    "\n",
    "plt.rcParams['figure.autolayout'] = False\n",
    "plt.rcParams['figure.figsize'] = 10, 6\n",
    "plt.rcParams['axes.labelsize'] = 18\n",
    "plt.rcParams['axes.titlesize'] = 20\n",
    "plt.rcParams['font.size'] = 16\n",
    "plt.rcParams['lines.linewidth'] = 2.0\n",
    "plt.rcParams['lines.markersize'] = 8\n",
    "plt.rcParams['legend.fontsize'] = 14\n",
    "\n",
    "plt.rcParams['text.usetex'] = True\n",
    "plt.rcParams['font.family'] = \"serif\"\n",
    "plt.rcParams['font.serif'] = \"cm\"\n",
    "plt.rcParams['text.latex.preamble'] = \"\\usepackage{subdepth}, \\usepackage{type1cm}\""
   ]
  },
  {
   "cell_type": "markdown",
   "metadata": {},
   "source": [
    "# VLASIATOR \n",
    "\n",
    "[Vlasiator](http://vlasiator.fmi.fi) is a code that simulates plasma,\n",
    "in particular targeting space weather simulations. It simulates the\n",
    "dynamics of plasma using a hybrid-Vlasov model, where protons are\n",
    "described by their distribution function $f(r,v,t)$ in\n",
    "ordinary ($r$) and velocity ($v$) space, and electrons are a\n",
    "charge-neutralising fluid. This approach neglects electron kinetic\n",
    "effects but retains ion kinetics. The time-evolution of $f(r,v,t)$ is\n",
    "given by Vlasov's equation, which is coupled self-consistently to\n",
    "Maxwell's equations giving the evolution of the electric and magnetic\n",
    "fields E and B.  Vlasiator propagates the distribution function\n",
    "forward in time with a conservative fifth-order accurate\n",
    "Semi-Lagrangian algorithm . This algorithm allows using long time\n",
    "steps even in the presence of strong magnetic fields, as the\n",
    "propagation in velocity space is not limited by the\n",
    "Courant-Friedrichs-Levy (CFL) condition. The field solver is a\n",
    "second-order accurate divergence-free upwind-constrained transport\n",
    "method.\n",
    "\n",
    "Vlasiator uses a Cartesian mesh library in ordinary space,\n",
    "parallelized with the [DCCRG](http://github.com/fmihpc/dccrg)\n",
    "library. Each cell contains the field variables ($B$, $E$), as well as a\n",
    "3D sparse velocity mesh. Empty velocity space cells are neither stored\n",
    "nor propagated, which in a typical case reduces the total number of\n",
    "phase space cells by a factor of at least 100. In large scale\n",
    "simulations there are typically on the order of a few million\n",
    "spatial-cells in ordinary space, with in total 10<sup>12</sup> cells\n",
    "in the full distribution function.\n",
    "\n",
    "The cartesian mesh is parallelized with MPI, and uses the Zoltan\n",
    "library for dynamic load balancing. It relies heavily on user defined\n",
    "MPI datatypes. The code is futhermore threaded. Typically loops over\n",
    "spatial cells have been threaded, but where the fata dependencies\n",
    "demand also other approaches have been used. Finally the Vlasov\n",
    "solver, representing up to 90% of total run-time, is vectorized using\n",
    "an explicit approach based on using the Agner Fogg's [vectorclass](http://www.agner.org/optimize/#vectorclass).\n",
    " "
   ]
  },
  {
   "cell_type": "code",
   "execution_count": null,
   "metadata": {
    "collapsed": true
   },
   "outputs": [],
   "source": []
  },
  {
   "cell_type": "code",
   "execution_count": null,
   "metadata": {
    "collapsed": true
   },
   "outputs": [],
   "source": []
  },
  {
   "cell_type": "markdown",
   "metadata": {},
   "source": [
    "## Porting \n",
    "\n",
    "### Xeon Phi  Knight's Landing\n",
    "\n",
    "The github branch where the neccessary changes were done is visible\n",
    "here LINK.  The main changes were:\n",
    "\n",
    "  * Added the interface to utilize also the Vec16f and Vec8d datatypes in vectorclass.\n",
    "  * Added the correct compiler flags to enable good performance on the KNL\n",
    " \n",
    "The main challenges was that the code was not compatitable with the\n",
    "Intel MPI stack. Using the MPI library, version 16 or 17, lead to\n",
    "crashes very early on. On other MPI libraries the code is, however,\n",
    "very stable. The root cause for this was not identified. By compiling\n",
    "OpenMPI and utilizing that good performance could be achieved on a KNL\n",
    "development platform.\n"
   ]
  },
  {
   "cell_type": "markdown",
   "metadata": {},
   "source": [
    "## Performance\n",
    "### Test cases \n",
    "\n",
    "To test the performance of the code three test cases have been\n",
    "created, which have different size. Each of them are a very low\n",
    "resolution version of a real space weather simulation, that fits on\n",
    "one node.\n"
   ]
  },
  {
   "cell_type": "code",
   "execution_count": 6,
   "metadata": {
    "collapsed": false,
    "hideCode": true,
    "hidePrompt": true
   },
   "outputs": [
    {
     "data": {
      "text/html": [
       "<div>\n",
       "<table border=\"1\" class=\"dataframe\">\n",
       "  <thead>\n",
       "    <tr style=\"text-align: right;\">\n",
       "      <th></th>\n",
       "      <th>col1</th>\n",
       "      <th>col2</th>\n",
       "      <th>col3</th>\n",
       "    </tr>\n",
       "  </thead>\n",
       "  <tbody>\n",
       "    <tr>\n",
       "      <th>0</th>\n",
       "      <td>Item0</td>\n",
       "      <td>Gold</td>\n",
       "      <td>1</td>\n",
       "    </tr>\n",
       "    <tr>\n",
       "      <th>1</th>\n",
       "      <td>Item0</td>\n",
       "      <td>Bronze</td>\n",
       "      <td>2</td>\n",
       "    </tr>\n",
       "    <tr>\n",
       "      <th>2</th>\n",
       "      <td>Item1</td>\n",
       "      <td>Gold</td>\n",
       "      <td>10</td>\n",
       "    </tr>\n",
       "    <tr>\n",
       "      <th>3</th>\n",
       "      <td>Item1</td>\n",
       "      <td>Silver</td>\n",
       "      <td>4</td>\n",
       "    </tr>\n",
       "  </tbody>\n",
       "</table>\n",
       "</div>"
      ],
      "text/plain": [
       "    col1    col2  col3\n",
       "0  Item0    Gold     1\n",
       "1  Item0  Bronze     2\n",
       "2  Item1    Gold    10\n",
       "3  Item1  Silver     4"
      ]
     },
     "metadata": {},
     "output_type": "display_data"
    }
   ],
   "source": [
    "name=\"small\" \"medium\" \"large\" \n",
    "mem_usage=1,9,40\n",
    "data = np.array([[1,2,3],[2,3,4]])\n",
    "df = pandas.DataFrame({\n",
    "   'col1': ['Item0', 'Item0', 'Item1', 'Item1'],\n",
    "   'col2': ['Gold', 'Bronze', 'Gold', 'Silver'],\n",
    "   'col3': [1, 2, 10, 4]\n",
    "})\n",
    "display(df)\n",
    "#df.plot()"
   ]
  },
  {
   "cell_type": "markdown",
   "metadata": {
    "collapsed": false
   },
   "source": [
    "\n",
    "\n",
    "### Vectorization \n",
    "  \n",
    "\n",
    "### Optimal run parameters\n",
    "\n",
    "To investigate optimal balance of threads and MPI processes we run the\n",
    "code with 4 threads per core, 256 threads in total, varying the number\n",
    "of processes. \n",
    "\n",
    "|        |   1   |   4  | 8   | 16   | 32   | 64   |\n",
    "| Small  |  48.7 | 64.0 |71.6 | 83.5 | 89.6 | 87.1 |\n",
    "| Medium | 154.5 | 112.5| 110.4 | 110.2 | 108.8 | 107.1|\n",
    "| Large  | 74.9  | 110.7 | 108.8 |112.9 |111.3 | 113.9|  \n",
    "Table. Performance if GigaCellss/s as a function of number of processes"
   ]
  },
  {
   "cell_type": "code",
   "execution_count": null,
   "metadata": {
    "collapsed": true
   },
   "outputs": [],
   "source": []
  }
 ],
 "metadata": {
  "anaconda-cloud": {},
  "celltoolbar": "Hide code",
  "kernelspec": {
   "display_name": "Python [default]",
   "language": "python",
   "name": "python2"
  },
  "language_info": {
   "codemirror_mode": {
    "name": "ipython",
    "version": 2
   },
   "file_extension": ".py",
   "mimetype": "text/x-python",
   "name": "python",
   "nbconvert_exporter": "python",
   "pygments_lexer": "ipython2",
   "version": "2.7.12"
  }
 },
 "nbformat": 4,
 "nbformat_minor": 1
}
